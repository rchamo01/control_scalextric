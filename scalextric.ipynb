{
 "cells": [
  {
   "cell_type": "code",
   "execution_count": 1,
   "id": "fb665c56",
   "metadata": {},
   "outputs": [],
   "source": [
    "import pandas as pd\n",
    "import os\n",
    "import matplotlib.pyplot as plt\n",
    "import threading"
   ]
  },
  {
   "cell_type": "code",
   "execution_count": 2,
   "id": "726ed0cd",
   "metadata": {},
   "outputs": [],
   "source": [
    "name = 'Scalextric.xlsx'\n",
    "count = 0\n",
    "archivos = os.listdir()\n",
    "for i in archivos:\n",
    "  if (i == name):\n",
    "    count = 1\n",
    "if (count == 0):\n",
    "  df = pd.DataFrame(columns=['Jugador', 'Coche', 'NVueltas', 'Tiempo', 'Media'])\n",
    "  df.to_excel(name)\n",
    "df = pd.read_excel(name)\n",
    "df.drop(columns= ['Unnamed: 0'], inplace = True)"
   ]
  },
  {
   "cell_type": "code",
   "execution_count": 3,
   "id": "939ba5f3",
   "metadata": {},
   "outputs": [
    {
     "name": "stdout",
     "output_type": "stream",
     "text": [
      "Introduce un jugador y su coche. f para finalizar\n",
      "raul\n",
      "ferrari\n",
      "Introduce un jugador y su coche. f para finalizar\n",
      "mario\n",
      "seat\n",
      "Introduce un jugador y su coche. f para finalizar\n",
      "f\n"
     ]
    }
   ],
   "source": [
    "jugadores = {}\n",
    "x, y = '', ''\n",
    "while (1):\n",
    "    print('Introduce un jugador y su coche. f para finalizar')\n",
    "    x = input()\n",
    "    if x == 'f':\n",
    "        break\n",
    "    y = input()\n",
    "    jugadores[x] = y"
   ]
  },
  {
   "cell_type": "code",
   "execution_count": 4,
   "id": "8ff1dbfc",
   "metadata": {},
   "outputs": [],
   "source": [
    "aux = pd.DataFrame(columns=df.columns)\n",
    "aux['Jugador'] = jugadores.keys()\n",
    "aux['Coche'] = jugadores.values()\n",
    "df = pd.concat([df,aux], sort = True)"
   ]
  },
  {
   "cell_type": "code",
   "execution_count": 5,
   "id": "232b7f36",
   "metadata": {},
   "outputs": [],
   "source": [
    "def comb (n):\n",
    "    return n*n-n"
   ]
  },
  {
   "cell_type": "code",
   "execution_count": 6,
   "id": "f823f483",
   "metadata": {},
   "outputs": [],
   "source": [
    "nVueltas, tiempo, jug, rival, vRapida = [], [], [], [], []"
   ]
  },
  {
   "cell_type": "code",
   "execution_count": 7,
   "id": "b2bb7705",
   "metadata": {},
   "outputs": [],
   "source": [
    "def insertar_datos():\n",
    "    for i in range(2*comb(len(df['Jugador']))):\n",
    "        print('Cambioooo' + str(i))\n",
    "        print('Pista 1')\n",
    "        j1 = input()\n",
    "        if j1 not in list(df['Jugador']):\n",
    "            print('Jugador no registrado')\n",
    "            i =- 1\n",
    "            continue\n",
    "        print('Pista 2')\n",
    "        j2 = input()\n",
    "        if j2 not in list(df['Jugador']):\n",
    "            print('Jugador no registrado')\n",
    "            i =- 1\n",
    "            continue\n",
    "        jug.append(j1)\n",
    "        jug.append(j2)\n",
    "        print('Tiempo de ' + jug[-2])\n",
    "        tiempo.append(float(input()))\n",
    "        print('NVueltas de ' + jug[-2])\n",
    "        nVueltas.append(float(input()))\n",
    "        print('vRapida de ' + jug[-2])\n",
    "        vRapida.append(float(input()))\n",
    "        print('Tiempo de ' + jug[-1])\n",
    "        tiempo.append(float(input()))\n",
    "        print('NVueltas de ' + jug[-1])\n",
    "        nVueltas.append(float(input()))\n",
    "        print('vRapida de ' + jug[-1])\n",
    "        vRapida.append(float(input()))\n",
    "        rival.append(jug[-1])\n",
    "        rival.append(jug[-2])\n",
    "        \n",
    "        #barrera.wait()"
   ]
  },
  {
   "cell_type": "code",
   "execution_count": 8,
   "id": "f2d8789b",
   "metadata": {},
   "outputs": [],
   "source": [
    "df2 = pd.DataFrame(columns = ['Jug', 'Rival', 'nVueltas', 'tiempo', 'vRapida'])\n",
    "def adjuntar_datos():\n",
    "    df2['Jug'] = jug\n",
    "    df2['Rival'] = rival\n",
    "    df2['nVueltas'] = nVueltas\n",
    "    df2['tiempo'] = tiempo\n",
    "    df2['vRapida'] = vRapida"
   ]
  },
  {
   "cell_type": "code",
   "execution_count": 9,
   "id": "9a5ecadd",
   "metadata": {},
   "outputs": [],
   "source": [
    "def mostrar_datos():\n",
    "    j = 1\n",
    "    for i in df2['Jug'].unique():\n",
    "        plt.subplot(1,3,j)\n",
    "        plt.title(i)\n",
    "        plt.ylim(df2['nVueltas'].min()-1,df2['nVueltas'].max()+1)\n",
    "        plt.bar(df2.groupby('Jug').get_group(i)['Rival'], df2.groupby('Jug').get_group(i)['nVueltas'])\n",
    "        j += 1\n",
    "    plt.show()"
   ]
  },
  {
   "cell_type": "code",
   "execution_count": 10,
   "id": "fe47b5aa",
   "metadata": {},
   "outputs": [],
   "source": [
    "#hilo1 = threading.Thread(target=insertar_datos)\n",
    "#hilo2 = threading.Thread(target=mostrar_datos)\n",
    "#hilo3 = threading.Thread(target=adjuntar_datos)\n",
    "\n",
    "#barrera = threading.Barrier(3)"
   ]
  },
  {
   "cell_type": "code",
   "execution_count": 11,
   "id": "ec7adbe1",
   "metadata": {},
   "outputs": [],
   "source": [
    "#hilo1.start()\n",
    "#hilo2.start()\n",
    "#hilo3.start()\n",
    "#hilo1.join()\n",
    "#hilo2.join()\n",
    "#hilo3.join()"
   ]
  },
  {
   "cell_type": "code",
   "execution_count": 12,
   "id": "e918c7fa",
   "metadata": {},
   "outputs": [
    {
     "name": "stdout",
     "output_type": "stream",
     "text": [
      "Cambioooo0\n",
      "Pista 1\n",
      "mario\n",
      "Pista 2\n",
      "raul\n",
      "Tiempo de mario\n",
      "1\n",
      "NVueltas de mario\n",
      "1\n",
      "vRapida de mario\n",
      "1\n",
      "Tiempo de raul\n",
      "2\n",
      "NVueltas de raul\n",
      "2\n",
      "vRapida de raul\n",
      "2\n",
      "Cambioooo1\n",
      "Pista 1\n",
      "mario\n",
      "Pista 2\n",
      "raul\n",
      "Tiempo de mario\n",
      "3\n",
      "NVueltas de mario\n",
      "3\n",
      "vRapida de mario\n",
      "3\n",
      "Tiempo de raul\n",
      "4\n",
      "NVueltas de raul\n",
      "4\n",
      "vRapida de raul\n",
      "4\n",
      "Cambioooo2\n",
      "Pista 1\n"
     ]
    },
    {
     "ename": "KeyboardInterrupt",
     "evalue": "Interrupted by user",
     "output_type": "error",
     "traceback": [
      "\u001b[1;31m---------------------------------------------------------------------------\u001b[0m",
      "\u001b[1;31mKeyboardInterrupt\u001b[0m                         Traceback (most recent call last)",
      "\u001b[1;32m~\\AppData\\Local\\Temp\\ipykernel_13784\\2836708414.py\u001b[0m in \u001b[0;36m<module>\u001b[1;34m\u001b[0m\n\u001b[1;32m----> 1\u001b[1;33m \u001b[0minsertar_datos\u001b[0m\u001b[1;33m(\u001b[0m\u001b[1;33m)\u001b[0m\u001b[1;33m\u001b[0m\u001b[1;33m\u001b[0m\u001b[0m\n\u001b[0m",
      "\u001b[1;32m~\\AppData\\Local\\Temp\\ipykernel_13784\\2087765912.py\u001b[0m in \u001b[0;36minsertar_datos\u001b[1;34m()\u001b[0m\n\u001b[0;32m      3\u001b[0m         \u001b[0mprint\u001b[0m\u001b[1;33m(\u001b[0m\u001b[1;34m'Cambioooo'\u001b[0m \u001b[1;33m+\u001b[0m \u001b[0mstr\u001b[0m\u001b[1;33m(\u001b[0m\u001b[0mi\u001b[0m\u001b[1;33m)\u001b[0m\u001b[1;33m)\u001b[0m\u001b[1;33m\u001b[0m\u001b[1;33m\u001b[0m\u001b[0m\n\u001b[0;32m      4\u001b[0m         \u001b[0mprint\u001b[0m\u001b[1;33m(\u001b[0m\u001b[1;34m'Pista 1'\u001b[0m\u001b[1;33m)\u001b[0m\u001b[1;33m\u001b[0m\u001b[1;33m\u001b[0m\u001b[0m\n\u001b[1;32m----> 5\u001b[1;33m         \u001b[0mj1\u001b[0m \u001b[1;33m=\u001b[0m \u001b[0minput\u001b[0m\u001b[1;33m(\u001b[0m\u001b[1;33m)\u001b[0m\u001b[1;33m\u001b[0m\u001b[1;33m\u001b[0m\u001b[0m\n\u001b[0m\u001b[0;32m      6\u001b[0m         \u001b[1;32mif\u001b[0m \u001b[0mj1\u001b[0m \u001b[1;32mnot\u001b[0m \u001b[1;32min\u001b[0m \u001b[0mlist\u001b[0m\u001b[1;33m(\u001b[0m\u001b[0mdf\u001b[0m\u001b[1;33m[\u001b[0m\u001b[1;34m'Jugador'\u001b[0m\u001b[1;33m]\u001b[0m\u001b[1;33m)\u001b[0m\u001b[1;33m:\u001b[0m\u001b[1;33m\u001b[0m\u001b[1;33m\u001b[0m\u001b[0m\n\u001b[0;32m      7\u001b[0m             \u001b[0mprint\u001b[0m\u001b[1;33m(\u001b[0m\u001b[1;34m'Jugador no registrado'\u001b[0m\u001b[1;33m)\u001b[0m\u001b[1;33m\u001b[0m\u001b[1;33m\u001b[0m\u001b[0m\n",
      "\u001b[1;32m~\\anaconda3\\lib\\site-packages\\ipykernel\\kernelbase.py\u001b[0m in \u001b[0;36mraw_input\u001b[1;34m(self, prompt)\u001b[0m\n\u001b[0;32m   1175\u001b[0m                 \u001b[1;34m\"raw_input was called, but this frontend does not support input requests.\"\u001b[0m\u001b[1;33m\u001b[0m\u001b[1;33m\u001b[0m\u001b[0m\n\u001b[0;32m   1176\u001b[0m             )\n\u001b[1;32m-> 1177\u001b[1;33m         return self._input_request(\n\u001b[0m\u001b[0;32m   1178\u001b[0m             \u001b[0mstr\u001b[0m\u001b[1;33m(\u001b[0m\u001b[0mprompt\u001b[0m\u001b[1;33m)\u001b[0m\u001b[1;33m,\u001b[0m\u001b[1;33m\u001b[0m\u001b[1;33m\u001b[0m\u001b[0m\n\u001b[0;32m   1179\u001b[0m             \u001b[0mself\u001b[0m\u001b[1;33m.\u001b[0m\u001b[0m_parent_ident\u001b[0m\u001b[1;33m[\u001b[0m\u001b[1;34m\"shell\"\u001b[0m\u001b[1;33m]\u001b[0m\u001b[1;33m,\u001b[0m\u001b[1;33m\u001b[0m\u001b[1;33m\u001b[0m\u001b[0m\n",
      "\u001b[1;32m~\\anaconda3\\lib\\site-packages\\ipykernel\\kernelbase.py\u001b[0m in \u001b[0;36m_input_request\u001b[1;34m(self, prompt, ident, parent, password)\u001b[0m\n\u001b[0;32m   1217\u001b[0m             \u001b[1;32mexcept\u001b[0m \u001b[0mKeyboardInterrupt\u001b[0m\u001b[1;33m:\u001b[0m\u001b[1;33m\u001b[0m\u001b[1;33m\u001b[0m\u001b[0m\n\u001b[0;32m   1218\u001b[0m                 \u001b[1;31m# re-raise KeyboardInterrupt, to truncate traceback\u001b[0m\u001b[1;33m\u001b[0m\u001b[1;33m\u001b[0m\u001b[0m\n\u001b[1;32m-> 1219\u001b[1;33m                 \u001b[1;32mraise\u001b[0m \u001b[0mKeyboardInterrupt\u001b[0m\u001b[1;33m(\u001b[0m\u001b[1;34m\"Interrupted by user\"\u001b[0m\u001b[1;33m)\u001b[0m \u001b[1;32mfrom\u001b[0m \u001b[1;32mNone\u001b[0m\u001b[1;33m\u001b[0m\u001b[1;33m\u001b[0m\u001b[0m\n\u001b[0m\u001b[0;32m   1220\u001b[0m             \u001b[1;32mexcept\u001b[0m \u001b[0mException\u001b[0m\u001b[1;33m:\u001b[0m\u001b[1;33m\u001b[0m\u001b[1;33m\u001b[0m\u001b[0m\n\u001b[0;32m   1221\u001b[0m                 \u001b[0mself\u001b[0m\u001b[1;33m.\u001b[0m\u001b[0mlog\u001b[0m\u001b[1;33m.\u001b[0m\u001b[0mwarning\u001b[0m\u001b[1;33m(\u001b[0m\u001b[1;34m\"Invalid Message:\"\u001b[0m\u001b[1;33m,\u001b[0m \u001b[0mexc_info\u001b[0m\u001b[1;33m=\u001b[0m\u001b[1;32mTrue\u001b[0m\u001b[1;33m)\u001b[0m\u001b[1;33m\u001b[0m\u001b[1;33m\u001b[0m\u001b[0m\n",
      "\u001b[1;31mKeyboardInterrupt\u001b[0m: Interrupted by user"
     ]
    }
   ],
   "source": [
    "insertar_datos()"
   ]
  },
  {
   "cell_type": "code",
   "execution_count": 17,
   "id": "28d762f7",
   "metadata": {},
   "outputs": [
    {
     "data": {
      "image/png": "[encoded data removed]",
      "text/plain": [
       "<Figure size 640x480 with 3 Axes>"
      ]
     },
     "metadata": {},
     "output_type": "display_data"
    }
   ],
   "source": [
    "adjuntar_datos()\n",
    "mostrar_datos()"
   ]
  },
  {
   "cell_type": "code",
   "execution_count": 32,
   "id": "53859964",
   "metadata": {},
   "outputs": [
    {
     "name": "stdout",
     "output_type": "stream",
     "text": [
      "           Coche Jugador     Media NVueltas Tiempo\n",
      "Jugador                                           \n",
      "raul     ferrari    raul       NaN      NaN    NaN\n",
      "mario       fiat   mario  1.333333      8.0    8.0\n",
      "jose        seat    jose  2.333333     14.0   14.0\n",
      "           Coche Jugador     Media NVueltas Tiempo\n",
      "Jugador                                           \n",
      "raul     ferrari    raul      1.75      7.0    7.0\n",
      "mario       fiat   mario  1.333333      8.0    8.0\n",
      "jose        seat    jose  2.333333     14.0   14.0\n",
      "           Coche Jugador     Media NVueltas Tiempo\n",
      "Jugador                                           \n",
      "raul     ferrari    raul      1.75      7.0    7.0\n",
      "mario       fiat   mario  1.333333      8.0    8.0\n",
      "jose        seat    jose  2.333333     14.0   14.0\n"
     ]
    }
   ],
   "source": [
    "df.index = df['Jugador']\n",
    "for i in df2['Jug'].unique():\n",
    "    df.iloc[df.index.get_indexer([i]), df.columns.get_indexer([\"NVueltas\"])] = df2.groupby('Jug').get_group(i)['nVueltas'].sum()\n",
    "    df.iloc[df.index.get_indexer([i]), df.columns.get_indexer([\"Tiempo\"])] = df2.groupby('Jug').get_group(i)['tiempo'].sum()\n",
    "    df.iloc[df.index.get_indexer([i]), df.columns.get_indexer([\"Media\"])] = df2.groupby('Jug').get_group(i)['tiempo'].mean()\n",
    "    print(df)"
   ]
  },
  {
   "cell_type": "code",
   "execution_count": 22,
   "id": "0008c9ac",
   "metadata": {},
   "outputs": [],
   "source": [
    "df.to_excel(name)"
   ]
  },
  {
   "cell_type": "code",
   "execution_count": 31,
   "id": "2c82602d",
   "metadata": {},
   "outputs": [
    {
     "data": {
      "text/plain": [
       "array([1], dtype=int64)"
      ]
     },
     "execution_count": 31,
     "metadata": {},
     "output_type": "execute_result"
    }
   ],
   "source": [
    "df.index = df['Jugador']\n",
    "df.index.get_indexer(['mario'])"
   ]
  },
  {
   "cell_type": "code",
   "execution_count": 23,
   "id": "61583ef8",
   "metadata": {},
   "outputs": [
    {
     "data": {
      "text/html": [
       "<div>\n",
       "<style scoped>\n",
       "    .dataframe tbody tr th:only-of-type {\n",
       "        vertical-align: middle;\n",
       "    }\n",
       "\n",
       "    .dataframe tbody tr th {\n",
       "        vertical-align: top;\n",
       "    }\n",
       "\n",
       "    .dataframe thead th {\n",
       "        text-align: right;\n",
       "    }\n",
       "</style>\n",
       "<table border=\"1\" class=\"dataframe\">\n",
       "  <thead>\n",
       "    <tr style=\"text-align: right;\">\n",
       "      <th></th>\n",
       "      <th>Jug</th>\n",
       "      <th>Rival</th>\n",
       "      <th>nVueltas</th>\n",
       "      <th>tiempo</th>\n",
       "      <th>vRapida</th>\n",
       "    </tr>\n",
       "  </thead>\n",
       "  <tbody>\n",
       "    <tr>\n",
       "      <th>0</th>\n",
       "      <td>mario</td>\n",
       "      <td>raul</td>\n",
       "      <td>1.0</td>\n",
       "      <td>1.0</td>\n",
       "      <td>1.0</td>\n",
       "    </tr>\n",
       "    <tr>\n",
       "      <th>1</th>\n",
       "      <td>raul</td>\n",
       "      <td>mario</td>\n",
       "      <td>1.0</td>\n",
       "      <td>1.0</td>\n",
       "      <td>1.0</td>\n",
       "    </tr>\n",
       "    <tr>\n",
       "      <th>2</th>\n",
       "      <td>raul</td>\n",
       "      <td>mario</td>\n",
       "      <td>2.0</td>\n",
       "      <td>2.0</td>\n",
       "      <td>2.0</td>\n",
       "    </tr>\n",
       "    <tr>\n",
       "      <th>3</th>\n",
       "      <td>mario</td>\n",
       "      <td>raul</td>\n",
       "      <td>1.0</td>\n",
       "      <td>1.0</td>\n",
       "      <td>1.0</td>\n",
       "    </tr>\n",
       "    <tr>\n",
       "      <th>4</th>\n",
       "      <td>jose</td>\n",
       "      <td>mario</td>\n",
       "      <td>3.0</td>\n",
       "      <td>3.0</td>\n",
       "      <td>3.0</td>\n",
       "    </tr>\n",
       "    <tr>\n",
       "      <th>5</th>\n",
       "      <td>mario</td>\n",
       "      <td>jose</td>\n",
       "      <td>1.0</td>\n",
       "      <td>1.0</td>\n",
       "      <td>1.0</td>\n",
       "    </tr>\n",
       "    <tr>\n",
       "      <th>6</th>\n",
       "      <td>mario</td>\n",
       "      <td>jose</td>\n",
       "      <td>1.0</td>\n",
       "      <td>1.0</td>\n",
       "      <td>1.0</td>\n",
       "    </tr>\n",
       "    <tr>\n",
       "      <th>7</th>\n",
       "      <td>jose</td>\n",
       "      <td>mario</td>\n",
       "      <td>3.0</td>\n",
       "      <td>3.0</td>\n",
       "      <td>3.0</td>\n",
       "    </tr>\n",
       "    <tr>\n",
       "      <th>8</th>\n",
       "      <td>jose</td>\n",
       "      <td>raul</td>\n",
       "      <td>1.0</td>\n",
       "      <td>1.0</td>\n",
       "      <td>1.0</td>\n",
       "    </tr>\n",
       "    <tr>\n",
       "      <th>9</th>\n",
       "      <td>raul</td>\n",
       "      <td>jose</td>\n",
       "      <td>2.0</td>\n",
       "      <td>2.0</td>\n",
       "      <td>2.0</td>\n",
       "    </tr>\n",
       "    <tr>\n",
       "      <th>10</th>\n",
       "      <td>raul</td>\n",
       "      <td>jose</td>\n",
       "      <td>2.0</td>\n",
       "      <td>2.0</td>\n",
       "      <td>2.0</td>\n",
       "    </tr>\n",
       "    <tr>\n",
       "      <th>11</th>\n",
       "      <td>jose</td>\n",
       "      <td>raul</td>\n",
       "      <td>3.0</td>\n",
       "      <td>3.0</td>\n",
       "      <td>3.0</td>\n",
       "    </tr>\n",
       "    <tr>\n",
       "      <th>12</th>\n",
       "      <td>jose</td>\n",
       "      <td>mario</td>\n",
       "      <td>3.0</td>\n",
       "      <td>3.0</td>\n",
       "      <td>3.0</td>\n",
       "    </tr>\n",
       "    <tr>\n",
       "      <th>13</th>\n",
       "      <td>mario</td>\n",
       "      <td>jose</td>\n",
       "      <td>3.0</td>\n",
       "      <td>3.0</td>\n",
       "      <td>3.0</td>\n",
       "    </tr>\n",
       "    <tr>\n",
       "      <th>14</th>\n",
       "      <td>mario</td>\n",
       "      <td>jose</td>\n",
       "      <td>1.0</td>\n",
       "      <td>1.0</td>\n",
       "      <td>1.0</td>\n",
       "    </tr>\n",
       "    <tr>\n",
       "      <th>15</th>\n",
       "      <td>jose</td>\n",
       "      <td>mario</td>\n",
       "      <td>1.0</td>\n",
       "      <td>1.0</td>\n",
       "      <td>1.0</td>\n",
       "    </tr>\n",
       "  </tbody>\n",
       "</table>\n",
       "</div>"
      ],
      "text/plain": [
       "      Jug  Rival  nVueltas  tiempo  vRapida\n",
       "0   mario   raul       1.0     1.0      1.0\n",
       "1    raul  mario       1.0     1.0      1.0\n",
       "2    raul  mario       2.0     2.0      2.0\n",
       "3   mario   raul       1.0     1.0      1.0\n",
       "4    jose  mario       3.0     3.0      3.0\n",
       "5   mario   jose       1.0     1.0      1.0\n",
       "6   mario   jose       1.0     1.0      1.0\n",
       "7    jose  mario       3.0     3.0      3.0\n",
       "8    jose   raul       1.0     1.0      1.0\n",
       "9    raul   jose       2.0     2.0      2.0\n",
       "10   raul   jose       2.0     2.0      2.0\n",
       "11   jose   raul       3.0     3.0      3.0\n",
       "12   jose  mario       3.0     3.0      3.0\n",
       "13  mario   jose       3.0     3.0      3.0\n",
       "14  mario   jose       1.0     1.0      1.0\n",
       "15   jose  mario       1.0     1.0      1.0"
      ]
     },
     "execution_count": 23,
     "metadata": {},
     "output_type": "execute_result"
    }
   ],
   "source": [
    "df2"
   ]
  },
  {
   "cell_type": "code",
   "execution_count": 24,
   "id": "4b5c849f",
   "metadata": {},
   "outputs": [
    {
     "data": {
      "text/html": [
       "<div>\n",
       "<style scoped>\n",
       "    .dataframe tbody tr th:only-of-type {\n",
       "        vertical-align: middle;\n",
       "    }\n",
       "\n",
       "    .dataframe tbody tr th {\n",
       "        vertical-align: top;\n",
       "    }\n",
       "\n",
       "    .dataframe thead th {\n",
       "        text-align: right;\n",
       "    }\n",
       "</style>\n",
       "<table border=\"1\" class=\"dataframe\">\n",
       "  <thead>\n",
       "    <tr style=\"text-align: right;\">\n",
       "      <th></th>\n",
       "      <th>Coche</th>\n",
       "      <th>Jugador</th>\n",
       "      <th>Media</th>\n",
       "      <th>NVueltas</th>\n",
       "      <th>Tiempo</th>\n",
       "    </tr>\n",
       "  </thead>\n",
       "  <tbody>\n",
       "    <tr>\n",
       "      <th>0</th>\n",
       "      <td>ferrari</td>\n",
       "      <td>raul</td>\n",
       "      <td>NaN</td>\n",
       "      <td>NaN</td>\n",
       "      <td>NaN</td>\n",
       "    </tr>\n",
       "    <tr>\n",
       "      <th>1</th>\n",
       "      <td>fiat</td>\n",
       "      <td>mario</td>\n",
       "      <td>NaN</td>\n",
       "      <td>NaN</td>\n",
       "      <td>NaN</td>\n",
       "    </tr>\n",
       "    <tr>\n",
       "      <th>2</th>\n",
       "      <td>seat</td>\n",
       "      <td>jose</td>\n",
       "      <td>2.333333</td>\n",
       "      <td>14.0</td>\n",
       "      <td>14.0</td>\n",
       "    </tr>\n",
       "  </tbody>\n",
       "</table>\n",
       "</div>"
      ],
      "text/plain": [
       "     Coche Jugador     Media NVueltas Tiempo\n",
       "0  ferrari    raul       NaN      NaN    NaN\n",
       "1     fiat   mario       NaN      NaN    NaN\n",
       "2     seat    jose  2.333333     14.0   14.0"
      ]
     },
     "execution_count": 24,
     "metadata": {},
     "output_type": "execute_result"
    }
   ],
   "source": [
    "df"
   ]
  },
  {
   "cell_type": "code",
   "execution_count": null,
   "id": "387e99b5",
   "metadata": {},
   "outputs": [],
   "source": []
  }
 ],
 "metadata": {
  "kernelspec": {
   "display_name": "Python 3 (ipykernel)",
   "language": "python",
   "name": "python3"
  },
  "language_info": {
   "codemirror_mode": {
    "name": "ipython",
    "version": 3
   },
   "file_extension": ".py",
   "mimetype": "text/x-python",
   "name": "python",
   "nbconvert_exporter": "python",
   "pygments_lexer": "ipython3",
   "version": "3.9.13"
  }
 },
 "nbformat": 4,
 "nbformat_minor": 5
}
