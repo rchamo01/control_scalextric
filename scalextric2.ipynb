{
 "cells": [
  {
   "cell_type": "code",
   "execution_count": 1,
   "id": "1046da53",
   "metadata": {},
   "outputs": [],
   "source": [
    "import pandas as pd\n",
    "import os\n",
    "import matplotlib.pyplot as plt\n",
    "#import threading\n",
    "import PySimpleGUI as sg"
   ]
  },
  {
   "cell_type": "code",
   "execution_count": 2,
   "id": "5139bb25",
   "metadata": {},
   "outputs": [],
   "source": [
    "name = 'Scalextric.xlsx'\n",
    "count = 0\n",
    "#archivos = os.listdir()\n",
    "#for i in archivos:\n",
    "#  if (i == name):\n",
    "#    count = 1\n",
    "#if (count == 0):\n",
    "#  df = pd.DataFrame(columns=['Jugador', 'Coche', 'NVueltas', 'Tiempo', 'Media'])\n",
    "#  df.to_excel(name)\n",
    "#df = pd.read_excel(name)\n",
    "#df.drop(columns= ['Unnamed: 0'], inplace = True)\n",
    "df = pd.DataFrame(columns=['Jugador', 'Coche', 'NVueltas', 'Tiempo', 'Media'])"
   ]
  },
  {
   "cell_type": "code",
   "execution_count": 3,
   "id": "31a21b30",
   "metadata": {},
   "outputs": [],
   "source": [
    "sg.theme('Dark Grey 13')\n",
    "\n",
    "layout = [[sg.Text('Nuevo Piloto', size =(14, 1)), sg.Text('',key='pantalla', size =(15, 1)), sg.Text('', key='pant', size =(15, 1))],\n",
    "          [sg.Input(size =(15, 1)), sg.Text('', key = 'pantalla2', size =(15, 1)), sg.Text('', key='pant2', size =(15, 1))],\n",
    "          [sg.Text('Coche', size =(14, 1)), sg.Text('', key='pantalla3', size =(15, 1)), sg.Text('', key='pant3', size =(15, 1))],\n",
    "          [sg.Input(size =(15, 1)), sg.Text('', key='pantalla4', size =(15, 1)), sg.Text('', key='pant4', size =(15, 1))],\n",
    "          [sg.OK(), sg.Cancel()]]\n",
    "\n",
    "window = sg.Window('Scalextric', layout)"
   ]
  },
  {
   "cell_type": "code",
   "execution_count": 4,
   "id": "50ec18eb",
   "metadata": {},
   "outputs": [],
   "source": [
    "jugadores = {}\n",
    "j=1\n",
    "while (1):\n",
    "    event, v = window.read()\n",
    "    #print(event)\n",
    "    if event in (sg.WIN_CLOSED, 'Cancel'):\n",
    "        window.close()\n",
    "        break\n",
    "    if event == 'OK':\n",
    "        jugadores[v[0]] = v[1]\n",
    "        if j == 1:\n",
    "            window['pantalla'].update(list(jugadores.keys())[-1])\n",
    "            window['pant'].update(list(jugadores.values())[-1])\n",
    "            j +=1\n",
    "        elif j == 2:\n",
    "            window['pantalla'].update(list(jugadores.keys())[-1])\n",
    "            window['pant'].update(list(jugadores.values())[-1])\n",
    "            window['pantalla2'].update(list(jugadores.keys())[-2])\n",
    "            window['pant2'].update(list(jugadores.values())[-2])\n",
    "            j +=1\n",
    "        elif j == 3:\n",
    "            window['pantalla'].update(list(jugadores.keys())[-1])\n",
    "            window['pant'].update(list(jugadores.values())[-1])\n",
    "            window['pantalla2'].update(list(jugadores.keys())[-2])\n",
    "            window['pant2'].update(list(jugadores.values())[-2])\n",
    "            window['pantalla3'].update(list(jugadores.keys())[-3])\n",
    "            window['pant3'].update(list(jugadores.values())[-3])\n",
    "            j +=1\n",
    "        elif j == 4:\n",
    "            window['pantalla'].update(list(jugadores.keys())[-1])\n",
    "            window['pant'].update(list(jugadores.values())[-1])\n",
    "            window['pantalla2'].update(list(jugadores.keys())[-2])\n",
    "            window['pant2'].update(list(jugadores.values())[-2])\n",
    "            window['pantalla3'].update(list(jugadores.keys())[-3])\n",
    "            window['pant3'].update(list(jugadores.values())[-3])\n",
    "            window['pantalla4'].update(list(jugadores.keys())[-4])\n",
    "            window['pant4'].update(list(jugadores.values())[-4])\n",
    "            j = 1"
   ]
  },
  {
   "cell_type": "code",
   "execution_count": 5,
   "id": "98601597",
   "metadata": {},
   "outputs": [],
   "source": [
    "aux = pd.DataFrame(columns=df.columns)\n",
    "aux['Jugador'] = jugadores.keys()\n",
    "aux['Coche'] = jugadores.values()\n",
    "df = pd.concat([df,aux], sort = True)"
   ]
  },
  {
   "cell_type": "code",
   "execution_count": 6,
   "id": "31822fe5",
   "metadata": {},
   "outputs": [],
   "source": [
    "def comb (n):\n",
    "    return n*n-n"
   ]
  },
  {
   "cell_type": "code",
   "execution_count": 278,
   "id": "59373911",
   "metadata": {},
   "outputs": [],
   "source": [
    "numeroVueltas = pd.DataFrame(columns = df['Jugador'].unique(), index = df['Jugador'].unique())\n",
    "tiempoV = pd.DataFrame(columns = df['Jugador'].unique(), index = df['Jugador'].unique())\n",
    "vueltaRapida = pd.DataFrame(columns = df['Jugador'].unique(), index = df['Jugador'].unique())\n",
    "for i in range(numeroVueltas.shape[0]):\n",
    "    for j in range(numeroVueltas.shape[1]):\n",
    "        numeroVueltas.iloc[i][j] = 0.0\n",
    "        tiempoV.iloc[i][j] = 0.0\n",
    "        vueltaRapida.iloc[i][j] = 0.0\n",
    "nVueltas, tiempo, jug, rival, vRapida, enfrentamientos = [], [], [], [], [], []"
   ]
  },
  {
   "cell_type": "code",
   "execution_count": 279,
   "id": "1e4cf621",
   "metadata": {},
   "outputs": [],
   "source": [
    "#def busca(aux)\n",
    "#numeroVueltas[numeroVueltas.index == 'mario']['jose'].iloc[0][1]"
   ]
  },
  {
   "cell_type": "code",
   "execution_count": 280,
   "id": "3b25710a",
   "metadata": {},
   "outputs": [],
   "source": [
    "layout2 = [[sg.Text('Piloto1', size =(45, 1)), sg.Text('Piloto2', size =(15, 1))],\n",
    "          [sg.InputText(size =(45, 1), key='val1'), sg.InputText(size =(15, 1), key='val2')],\n",
    "           [sg.Text('Tiempo p1', size =(15, 1)), sg.Text('nVueltas p1', size =(15, 1)), sg.Text('vRapida p1', size =(15, 1)), \n",
    "            sg.Text('Tiempo p2', size =(15, 1)), sg.Text('nVueltas p2', size =(15, 1)), sg.Text('vRapida p2', size =(15, 1))],\n",
    "           [sg.InputText(size =(16, 1), key='t1'), sg.InputText(size =(16, 1), key='n1'), sg.InputText(size =(16, 1), key='v1'), \n",
    "            sg.InputText(size =(16, 1), key='t2'), sg.InputText(size =(16, 1), key='n2'), sg.InputText(size =(16, 1), key='v2')],\n",
    "          [sg.Text('Introduce los pilotos, numero de vueltas, tiempo y vuelta rapida', key='pantalla')],\n",
    "          [sg.OK(), sg.Button('Datos'), sg.Cancel()]]\n",
    "\n",
    "window2 = sg.Window('Competicion', layout2, margins=(10, 10))"
   ]
  },
  {
   "cell_type": "code",
   "execution_count": 281,
   "id": "074f4bd0",
   "metadata": {},
   "outputs": [],
   "source": [
    "#layout3 = [[sg.Text('Tiempo de ' + jug[-2], key='t01'), sg.InputText(key='t1')],\n",
    "#          [sg.Text('Tiempo de ' + jug[-1], key='t02'), sg.InputText(key='t2')],\n",
    "#          [sg.Text('Numero de vueltas de ' + jug[-2], key='n01'), sg.InputText(key='n1')],\n",
    "#          [sg.Text('Numero de vueltas de ' + jug[-1], key='n02'), sg.InputText(key='n2')],\n",
    "#          [sg.Text('Vuelta rapida de ' + jug[-2], key='v01'), sg.InputText(key='v1')],\n",
    "#          [sg.Text('Vuelta rapida de ' + jug[-1], key='v02'), sg.InputText(key='v2')],\n",
    "#          [sg.OK(), sg.Cancel()]]\n",
    "#window3 = sg.Window('Competicion', layout3)"
   ]
  },
  {
   "cell_type": "code",
   "execution_count": 282,
   "id": "201508dd",
   "metadata": {},
   "outputs": [],
   "source": [
    "def mostrar_datos():\n",
    "    j = 1\n",
    "    for i in df2['Jug'].unique():\n",
    "        print(i, j)\n",
    "        plt.subplot(2,3,j)\n",
    "        plt.title('N' + i)\n",
    "        plt.ylim(df2['nVueltas'].min()-1,df2['nVueltas'].max()+1)\n",
    "        plt.bar(df2.groupby('Jug').get_group(i)['Rival'], df2.groupby('Jug').get_group(i)['nVueltas'])\n",
    "        plt.subplot(2,3,j)\n",
    "        plt.title('T' + i)\n",
    "        plt.ylim(df2['tiempo'].min()-1,df2['tiempo'].max()+1)\n",
    "        plt.bar(df2.groupby('Jug').get_group(i)['Rival'], df2.groupby('Jug').get_group(i)['tiempo'])\n",
    "        j += 1\n",
    "    plt.show()"
   ]
  },
  {
   "cell_type": "code",
   "execution_count": 283,
   "id": "a8b71d66",
   "metadata": {},
   "outputs": [
    {
     "data": {
      "text/plain": [
       "'\"#def mostrar_datos2():\\nfig, axs = plt.subplots(2, len(df2[\\'Jug\\'].unique()))\\nfor i in range(len(df2[\\'Jug\\'].unique())):\\n    print(i)\\n    axs[0, i].bar(df2.groupby(\\'Jug\\').get_group(i)[\\'Rival\\'], df2.groupby(\\'Jug\\').get_group(i)[\\'nVueltas\\'])\\n    axs[1, i].bar(df2.groupby(\\'Jug\\').get_group(i)[\\'Rival\\'], df2.groupby(\\'Jug\\').get_group(i)[\\'tiempo\\'])'"
      ]
     },
     "execution_count": 283,
     "metadata": {},
     "output_type": "execute_result"
    }
   ],
   "source": [
    "\"\"\"\"#def mostrar_datos2():\n",
    "fig, axs = plt.subplots(2, len(df2['Jug'].unique()))\n",
    "for i in range(len(df2['Jug'].unique())):\n",
    "    print(i)\n",
    "    axs[0, i].bar(df2.groupby('Jug').get_group(i)['Rival'], df2.groupby('Jug').get_group(i)['nVueltas'])\n",
    "    axs[1, i].bar(df2.groupby('Jug').get_group(i)['Rival'], df2.groupby('Jug').get_group(i)['tiempo'])\"\"\""
   ]
  },
  {
   "cell_type": "code",
   "execution_count": 292,
   "id": "95458804",
   "metadata": {},
   "outputs": [
    {
     "ename": "TypeError",
     "evalue": "Image data of dtype object cannot be converted to float",
     "output_type": "error",
     "traceback": [
      "\u001b[1;31m---------------------------------------------------------------------------\u001b[0m",
      "\u001b[1;31mTypeError\u001b[0m                                 Traceback (most recent call last)",
      "\u001b[1;32m~\\AppData\\Local\\Temp\\ipykernel_7204\\3706067975.py\u001b[0m in \u001b[0;36m<module>\u001b[1;34m\u001b[0m\n\u001b[0;32m      3\u001b[0m \u001b[0mfig\u001b[0m\u001b[1;33m,\u001b[0m \u001b[0max\u001b[0m \u001b[1;33m=\u001b[0m \u001b[0mplt\u001b[0m\u001b[1;33m.\u001b[0m\u001b[0msubplots\u001b[0m\u001b[1;33m(\u001b[0m\u001b[1;33m)\u001b[0m\u001b[1;33m\u001b[0m\u001b[1;33m\u001b[0m\u001b[0m\n\u001b[0;32m      4\u001b[0m \u001b[0mdata\u001b[0m \u001b[1;33m=\u001b[0m \u001b[0mnp\u001b[0m\u001b[1;33m.\u001b[0m\u001b[0marray\u001b[0m\u001b[1;33m(\u001b[0m\u001b[0mtiempoV\u001b[0m\u001b[1;33m)\u001b[0m\u001b[1;33m\u001b[0m\u001b[1;33m\u001b[0m\u001b[0m\n\u001b[1;32m----> 5\u001b[1;33m \u001b[0max\u001b[0m\u001b[1;33m.\u001b[0m\u001b[0mimshow\u001b[0m\u001b[1;33m(\u001b[0m\u001b[0mtiempoV\u001b[0m\u001b[1;33m)\u001b[0m\u001b[1;33m\u001b[0m\u001b[1;33m\u001b[0m\u001b[0m\n\u001b[0m\u001b[0;32m      6\u001b[0m \u001b[1;33m\u001b[0m\u001b[0m\n\u001b[0;32m      7\u001b[0m \u001b[1;31m# Agregar las etiquetas\u001b[0m\u001b[1;33m\u001b[0m\u001b[1;33m\u001b[0m\u001b[0m\n",
      "\u001b[1;32m~\\anaconda3\\lib\\site-packages\\matplotlib\\_api\\deprecation.py\u001b[0m in \u001b[0;36mwrapper\u001b[1;34m(*args, **kwargs)\u001b[0m\n\u001b[0;32m    457\u001b[0m                 \u001b[1;34m\"parameter will become keyword-only %(removal)s.\"\u001b[0m\u001b[1;33m,\u001b[0m\u001b[1;33m\u001b[0m\u001b[1;33m\u001b[0m\u001b[0m\n\u001b[0;32m    458\u001b[0m                 name=name, obj_type=f\"parameter of {func.__name__}()\")\n\u001b[1;32m--> 459\u001b[1;33m         \u001b[1;32mreturn\u001b[0m \u001b[0mfunc\u001b[0m\u001b[1;33m(\u001b[0m\u001b[1;33m*\u001b[0m\u001b[0margs\u001b[0m\u001b[1;33m,\u001b[0m \u001b[1;33m**\u001b[0m\u001b[0mkwargs\u001b[0m\u001b[1;33m)\u001b[0m\u001b[1;33m\u001b[0m\u001b[1;33m\u001b[0m\u001b[0m\n\u001b[0m\u001b[0;32m    460\u001b[0m \u001b[1;33m\u001b[0m\u001b[0m\n\u001b[0;32m    461\u001b[0m     \u001b[1;31m# Don't modify *func*'s signature, as boilerplate.py needs it.\u001b[0m\u001b[1;33m\u001b[0m\u001b[1;33m\u001b[0m\u001b[0m\n",
      "\u001b[1;32m~\\anaconda3\\lib\\site-packages\\matplotlib\\__init__.py\u001b[0m in \u001b[0;36minner\u001b[1;34m(ax, data, *args, **kwargs)\u001b[0m\n\u001b[0;32m   1410\u001b[0m     \u001b[1;32mdef\u001b[0m \u001b[0minner\u001b[0m\u001b[1;33m(\u001b[0m\u001b[0max\u001b[0m\u001b[1;33m,\u001b[0m \u001b[1;33m*\u001b[0m\u001b[0margs\u001b[0m\u001b[1;33m,\u001b[0m \u001b[0mdata\u001b[0m\u001b[1;33m=\u001b[0m\u001b[1;32mNone\u001b[0m\u001b[1;33m,\u001b[0m \u001b[1;33m**\u001b[0m\u001b[0mkwargs\u001b[0m\u001b[1;33m)\u001b[0m\u001b[1;33m:\u001b[0m\u001b[1;33m\u001b[0m\u001b[1;33m\u001b[0m\u001b[0m\n\u001b[0;32m   1411\u001b[0m         \u001b[1;32mif\u001b[0m \u001b[0mdata\u001b[0m \u001b[1;32mis\u001b[0m \u001b[1;32mNone\u001b[0m\u001b[1;33m:\u001b[0m\u001b[1;33m\u001b[0m\u001b[1;33m\u001b[0m\u001b[0m\n\u001b[1;32m-> 1412\u001b[1;33m             \u001b[1;32mreturn\u001b[0m \u001b[0mfunc\u001b[0m\u001b[1;33m(\u001b[0m\u001b[0max\u001b[0m\u001b[1;33m,\u001b[0m \u001b[1;33m*\u001b[0m\u001b[0mmap\u001b[0m\u001b[1;33m(\u001b[0m\u001b[0msanitize_sequence\u001b[0m\u001b[1;33m,\u001b[0m \u001b[0margs\u001b[0m\u001b[1;33m)\u001b[0m\u001b[1;33m,\u001b[0m \u001b[1;33m**\u001b[0m\u001b[0mkwargs\u001b[0m\u001b[1;33m)\u001b[0m\u001b[1;33m\u001b[0m\u001b[1;33m\u001b[0m\u001b[0m\n\u001b[0m\u001b[0;32m   1413\u001b[0m \u001b[1;33m\u001b[0m\u001b[0m\n\u001b[0;32m   1414\u001b[0m         \u001b[0mbound\u001b[0m \u001b[1;33m=\u001b[0m \u001b[0mnew_sig\u001b[0m\u001b[1;33m.\u001b[0m\u001b[0mbind\u001b[0m\u001b[1;33m(\u001b[0m\u001b[0max\u001b[0m\u001b[1;33m,\u001b[0m \u001b[1;33m*\u001b[0m\u001b[0margs\u001b[0m\u001b[1;33m,\u001b[0m \u001b[1;33m**\u001b[0m\u001b[0mkwargs\u001b[0m\u001b[1;33m)\u001b[0m\u001b[1;33m\u001b[0m\u001b[1;33m\u001b[0m\u001b[0m\n",
      "\u001b[1;32m~\\anaconda3\\lib\\site-packages\\matplotlib\\axes\\_axes.py\u001b[0m in \u001b[0;36mimshow\u001b[1;34m(self, X, cmap, norm, aspect, interpolation, alpha, vmin, vmax, origin, extent, interpolation_stage, filternorm, filterrad, resample, url, **kwargs)\u001b[0m\n\u001b[0;32m   5479\u001b[0m                               **kwargs)\n\u001b[0;32m   5480\u001b[0m \u001b[1;33m\u001b[0m\u001b[0m\n\u001b[1;32m-> 5481\u001b[1;33m         \u001b[0mim\u001b[0m\u001b[1;33m.\u001b[0m\u001b[0mset_data\u001b[0m\u001b[1;33m(\u001b[0m\u001b[0mX\u001b[0m\u001b[1;33m)\u001b[0m\u001b[1;33m\u001b[0m\u001b[1;33m\u001b[0m\u001b[0m\n\u001b[0m\u001b[0;32m   5482\u001b[0m         \u001b[0mim\u001b[0m\u001b[1;33m.\u001b[0m\u001b[0mset_alpha\u001b[0m\u001b[1;33m(\u001b[0m\u001b[0malpha\u001b[0m\u001b[1;33m)\u001b[0m\u001b[1;33m\u001b[0m\u001b[1;33m\u001b[0m\u001b[0m\n\u001b[0;32m   5483\u001b[0m         \u001b[1;32mif\u001b[0m \u001b[0mim\u001b[0m\u001b[1;33m.\u001b[0m\u001b[0mget_clip_path\u001b[0m\u001b[1;33m(\u001b[0m\u001b[1;33m)\u001b[0m \u001b[1;32mis\u001b[0m \u001b[1;32mNone\u001b[0m\u001b[1;33m:\u001b[0m\u001b[1;33m\u001b[0m\u001b[1;33m\u001b[0m\u001b[0m\n",
      "\u001b[1;32m~\\anaconda3\\lib\\site-packages\\matplotlib\\image.py\u001b[0m in \u001b[0;36mset_data\u001b[1;34m(self, A)\u001b[0m\n\u001b[0;32m    704\u001b[0m         if (self._A.dtype != np.uint8 and\n\u001b[0;32m    705\u001b[0m                 not np.can_cast(self._A.dtype, float, \"same_kind\")):\n\u001b[1;32m--> 706\u001b[1;33m             raise TypeError(\"Image data of dtype {} cannot be converted to \"\n\u001b[0m\u001b[0;32m    707\u001b[0m                             \"float\".format(self._A.dtype))\n\u001b[0;32m    708\u001b[0m \u001b[1;33m\u001b[0m\u001b[0m\n",
      "\u001b[1;31mTypeError\u001b[0m: Image data of dtype object cannot be converted to float"
     ]
    },
    {
     "data": {
      "image/png": "[encoded data removed]",
      "text/plain": [
       "<Figure size 640x480 with 1 Axes>"
      ]
     },
     "metadata": {},
     "output_type": "display_data"
    }
   ],
   "source": [
    "# Mapa de calor\n",
    "import numpy as np\n",
    "fig, ax = plt.subplots()\n",
    "data = np.array(tiempoV)\n",
    "ax.imshow(tiempoV)\n",
    "\n",
    "# Agregar las etiquetas\n",
    "ax.set_xticks(np.arange(len(xlabs)), labels = xlabs)\n",
    "ax.set_yticks(np.arange(len(ylabs)), labels = ylabs)\n",
    "\n",
    "# Agregar los valores a cada celda\n",
    "for i in range(len(xlabs)):\n",
    "    for j in range(len(ylabs)):\n",
    "        text = ax.text(j, i, round(data[i, j], 1),\n",
    "                       ha = \"center\", va = \"center\", color = \"w\")\n",
    "\n",
    "# plt.show()"
   ]
  },
  {
   "cell_type": "code",
   "execution_count": 296,
   "id": "8bd08c5f",
   "metadata": {},
   "outputs": [
    {
     "ename": "TypeError",
     "evalue": "Image data of dtype object cannot be converted to float",
     "output_type": "error",
     "traceback": [
      "\u001b[1;31m---------------------------------------------------------------------------\u001b[0m",
      "\u001b[1;31mTypeError\u001b[0m                                 Traceback (most recent call last)",
      "\u001b[1;32m~\\AppData\\Local\\Temp\\ipykernel_7204\\274384716.py\u001b[0m in \u001b[0;36m<module>\u001b[1;34m\u001b[0m\n\u001b[0;32m      1\u001b[0m \u001b[1;32mimport\u001b[0m \u001b[0mseaborn\u001b[0m \u001b[1;32mas\u001b[0m \u001b[0msns\u001b[0m\u001b[1;33m\u001b[0m\u001b[1;33m\u001b[0m\u001b[0m\n\u001b[1;32m----> 2\u001b[1;33m \u001b[0max\u001b[0m \u001b[1;33m=\u001b[0m \u001b[0msns\u001b[0m\u001b[1;33m.\u001b[0m\u001b[0mheatmap\u001b[0m\u001b[1;33m(\u001b[0m\u001b[0mnp\u001b[0m\u001b[1;33m.\u001b[0m\u001b[0marray\u001b[0m\u001b[1;33m(\u001b[0m\u001b[0mtiempoV\u001b[0m\u001b[1;33m)\u001b[0m\u001b[1;33m,\u001b[0m \u001b[0mlinewidth\u001b[0m\u001b[1;33m=\u001b[0m\u001b[1;36m0.5\u001b[0m\u001b[1;33m)\u001b[0m\u001b[1;33m\u001b[0m\u001b[1;33m\u001b[0m\u001b[0m\n\u001b[0m",
      "\u001b[1;32m~\\anaconda3\\lib\\site-packages\\seaborn\\_decorators.py\u001b[0m in \u001b[0;36minner_f\u001b[1;34m(*args, **kwargs)\u001b[0m\n\u001b[0;32m     44\u001b[0m             )\n\u001b[0;32m     45\u001b[0m         \u001b[0mkwargs\u001b[0m\u001b[1;33m.\u001b[0m\u001b[0mupdate\u001b[0m\u001b[1;33m(\u001b[0m\u001b[1;33m{\u001b[0m\u001b[0mk\u001b[0m\u001b[1;33m:\u001b[0m \u001b[0marg\u001b[0m \u001b[1;32mfor\u001b[0m \u001b[0mk\u001b[0m\u001b[1;33m,\u001b[0m \u001b[0marg\u001b[0m \u001b[1;32min\u001b[0m \u001b[0mzip\u001b[0m\u001b[1;33m(\u001b[0m\u001b[0msig\u001b[0m\u001b[1;33m.\u001b[0m\u001b[0mparameters\u001b[0m\u001b[1;33m,\u001b[0m \u001b[0margs\u001b[0m\u001b[1;33m)\u001b[0m\u001b[1;33m}\u001b[0m\u001b[1;33m)\u001b[0m\u001b[1;33m\u001b[0m\u001b[1;33m\u001b[0m\u001b[0m\n\u001b[1;32m---> 46\u001b[1;33m         \u001b[1;32mreturn\u001b[0m \u001b[0mf\u001b[0m\u001b[1;33m(\u001b[0m\u001b[1;33m**\u001b[0m\u001b[0mkwargs\u001b[0m\u001b[1;33m)\u001b[0m\u001b[1;33m\u001b[0m\u001b[1;33m\u001b[0m\u001b[0m\n\u001b[0m\u001b[0;32m     47\u001b[0m     \u001b[1;32mreturn\u001b[0m \u001b[0minner_f\u001b[0m\u001b[1;33m\u001b[0m\u001b[1;33m\u001b[0m\u001b[0m\n\u001b[0;32m     48\u001b[0m \u001b[1;33m\u001b[0m\u001b[0m\n",
      "\u001b[1;32m~\\anaconda3\\lib\\site-packages\\seaborn\\matrix.py\u001b[0m in \u001b[0;36mheatmap\u001b[1;34m(data, vmin, vmax, cmap, center, robust, annot, fmt, annot_kws, linewidths, linecolor, cbar, cbar_kws, cbar_ax, square, xticklabels, yticklabels, mask, ax, **kwargs)\u001b[0m\n\u001b[0;32m    551\u001b[0m     \u001b[1;32mif\u001b[0m \u001b[0msquare\u001b[0m\u001b[1;33m:\u001b[0m\u001b[1;33m\u001b[0m\u001b[1;33m\u001b[0m\u001b[0m\n\u001b[0;32m    552\u001b[0m         \u001b[0max\u001b[0m\u001b[1;33m.\u001b[0m\u001b[0mset_aspect\u001b[0m\u001b[1;33m(\u001b[0m\u001b[1;34m\"equal\"\u001b[0m\u001b[1;33m)\u001b[0m\u001b[1;33m\u001b[0m\u001b[1;33m\u001b[0m\u001b[0m\n\u001b[1;32m--> 553\u001b[1;33m     \u001b[0mplotter\u001b[0m\u001b[1;33m.\u001b[0m\u001b[0mplot\u001b[0m\u001b[1;33m(\u001b[0m\u001b[0max\u001b[0m\u001b[1;33m,\u001b[0m \u001b[0mcbar_ax\u001b[0m\u001b[1;33m,\u001b[0m \u001b[0mkwargs\u001b[0m\u001b[1;33m)\u001b[0m\u001b[1;33m\u001b[0m\u001b[1;33m\u001b[0m\u001b[0m\n\u001b[0m\u001b[0;32m    554\u001b[0m     \u001b[1;32mreturn\u001b[0m \u001b[0max\u001b[0m\u001b[1;33m\u001b[0m\u001b[1;33m\u001b[0m\u001b[0m\n\u001b[0;32m    555\u001b[0m \u001b[1;33m\u001b[0m\u001b[0m\n",
      "\u001b[1;32m~\\anaconda3\\lib\\site-packages\\seaborn\\matrix.py\u001b[0m in \u001b[0;36mplot\u001b[1;34m(self, ax, cax, kws)\u001b[0m\n\u001b[0;32m    300\u001b[0m \u001b[1;33m\u001b[0m\u001b[0m\n\u001b[0;32m    301\u001b[0m         \u001b[1;31m# Draw the heatmap\u001b[0m\u001b[1;33m\u001b[0m\u001b[1;33m\u001b[0m\u001b[0m\n\u001b[1;32m--> 302\u001b[1;33m         \u001b[0mmesh\u001b[0m \u001b[1;33m=\u001b[0m \u001b[0max\u001b[0m\u001b[1;33m.\u001b[0m\u001b[0mpcolormesh\u001b[0m\u001b[1;33m(\u001b[0m\u001b[0mself\u001b[0m\u001b[1;33m.\u001b[0m\u001b[0mplot_data\u001b[0m\u001b[1;33m,\u001b[0m \u001b[0mcmap\u001b[0m\u001b[1;33m=\u001b[0m\u001b[0mself\u001b[0m\u001b[1;33m.\u001b[0m\u001b[0mcmap\u001b[0m\u001b[1;33m,\u001b[0m \u001b[1;33m**\u001b[0m\u001b[0mkws\u001b[0m\u001b[1;33m)\u001b[0m\u001b[1;33m\u001b[0m\u001b[1;33m\u001b[0m\u001b[0m\n\u001b[0m\u001b[0;32m    303\u001b[0m \u001b[1;33m\u001b[0m\u001b[0m\n\u001b[0;32m    304\u001b[0m         \u001b[1;31m# Set the axis limits\u001b[0m\u001b[1;33m\u001b[0m\u001b[1;33m\u001b[0m\u001b[0m\n",
      "\u001b[1;32m~\\anaconda3\\lib\\site-packages\\matplotlib\\__init__.py\u001b[0m in \u001b[0;36minner\u001b[1;34m(ax, data, *args, **kwargs)\u001b[0m\n\u001b[0;32m   1410\u001b[0m     \u001b[1;32mdef\u001b[0m \u001b[0minner\u001b[0m\u001b[1;33m(\u001b[0m\u001b[0max\u001b[0m\u001b[1;33m,\u001b[0m \u001b[1;33m*\u001b[0m\u001b[0margs\u001b[0m\u001b[1;33m,\u001b[0m \u001b[0mdata\u001b[0m\u001b[1;33m=\u001b[0m\u001b[1;32mNone\u001b[0m\u001b[1;33m,\u001b[0m \u001b[1;33m**\u001b[0m\u001b[0mkwargs\u001b[0m\u001b[1;33m)\u001b[0m\u001b[1;33m:\u001b[0m\u001b[1;33m\u001b[0m\u001b[1;33m\u001b[0m\u001b[0m\n\u001b[0;32m   1411\u001b[0m         \u001b[1;32mif\u001b[0m \u001b[0mdata\u001b[0m \u001b[1;32mis\u001b[0m \u001b[1;32mNone\u001b[0m\u001b[1;33m:\u001b[0m\u001b[1;33m\u001b[0m\u001b[1;33m\u001b[0m\u001b[0m\n\u001b[1;32m-> 1412\u001b[1;33m             \u001b[1;32mreturn\u001b[0m \u001b[0mfunc\u001b[0m\u001b[1;33m(\u001b[0m\u001b[0max\u001b[0m\u001b[1;33m,\u001b[0m \u001b[1;33m*\u001b[0m\u001b[0mmap\u001b[0m\u001b[1;33m(\u001b[0m\u001b[0msanitize_sequence\u001b[0m\u001b[1;33m,\u001b[0m \u001b[0margs\u001b[0m\u001b[1;33m)\u001b[0m\u001b[1;33m,\u001b[0m \u001b[1;33m**\u001b[0m\u001b[0mkwargs\u001b[0m\u001b[1;33m)\u001b[0m\u001b[1;33m\u001b[0m\u001b[1;33m\u001b[0m\u001b[0m\n\u001b[0m\u001b[0;32m   1413\u001b[0m \u001b[1;33m\u001b[0m\u001b[0m\n\u001b[0;32m   1414\u001b[0m         \u001b[0mbound\u001b[0m \u001b[1;33m=\u001b[0m \u001b[0mnew_sig\u001b[0m\u001b[1;33m.\u001b[0m\u001b[0mbind\u001b[0m\u001b[1;33m(\u001b[0m\u001b[0max\u001b[0m\u001b[1;33m,\u001b[0m \u001b[1;33m*\u001b[0m\u001b[0margs\u001b[0m\u001b[1;33m,\u001b[0m \u001b[1;33m**\u001b[0m\u001b[0mkwargs\u001b[0m\u001b[1;33m)\u001b[0m\u001b[1;33m\u001b[0m\u001b[1;33m\u001b[0m\u001b[0m\n",
      "\u001b[1;32m~\\anaconda3\\lib\\site-packages\\matplotlib\\axes\\_axes.py\u001b[0m in \u001b[0;36mpcolormesh\u001b[1;34m(self, alpha, norm, cmap, vmin, vmax, shading, antialiased, *args, **kwargs)\u001b[0m\n\u001b[0;32m   6064\u001b[0m         \u001b[0mkwargs\u001b[0m\u001b[1;33m.\u001b[0m\u001b[0msetdefault\u001b[0m\u001b[1;33m(\u001b[0m\u001b[1;34m'snap'\u001b[0m\u001b[1;33m,\u001b[0m \u001b[0mrcParams\u001b[0m\u001b[1;33m[\u001b[0m\u001b[1;34m'pcolormesh.snap'\u001b[0m\u001b[1;33m]\u001b[0m\u001b[1;33m)\u001b[0m\u001b[1;33m\u001b[0m\u001b[1;33m\u001b[0m\u001b[0m\n\u001b[0;32m   6065\u001b[0m \u001b[1;33m\u001b[0m\u001b[0m\n\u001b[1;32m-> 6066\u001b[1;33m         collection = mcoll.QuadMesh(\n\u001b[0m\u001b[0;32m   6067\u001b[0m             \u001b[0mcoords\u001b[0m\u001b[1;33m,\u001b[0m \u001b[0mantialiased\u001b[0m\u001b[1;33m=\u001b[0m\u001b[0mantialiased\u001b[0m\u001b[1;33m,\u001b[0m \u001b[0mshading\u001b[0m\u001b[1;33m=\u001b[0m\u001b[0mshading\u001b[0m\u001b[1;33m,\u001b[0m\u001b[1;33m\u001b[0m\u001b[1;33m\u001b[0m\u001b[0m\n\u001b[0;32m   6068\u001b[0m             array=C, cmap=cmap, norm=norm, alpha=alpha, **kwargs)\n",
      "\u001b[1;32m~\\anaconda3\\lib\\site-packages\\matplotlib\\collections.py\u001b[0m in \u001b[0;36m__init__\u001b[1;34m(self, *args, **kwargs)\u001b[0m\n\u001b[0;32m   2013\u001b[0m         \u001b[1;31m# super init delayed after own init because array kwarg requires\u001b[0m\u001b[1;33m\u001b[0m\u001b[1;33m\u001b[0m\u001b[0m\n\u001b[0;32m   2014\u001b[0m         \u001b[1;31m# self._coordinates and self._shading\u001b[0m\u001b[1;33m\u001b[0m\u001b[1;33m\u001b[0m\u001b[0m\n\u001b[1;32m-> 2015\u001b[1;33m         \u001b[0msuper\u001b[0m\u001b[1;33m(\u001b[0m\u001b[1;33m)\u001b[0m\u001b[1;33m.\u001b[0m\u001b[0m__init__\u001b[0m\u001b[1;33m(\u001b[0m\u001b[1;33m**\u001b[0m\u001b[0mkwargs\u001b[0m\u001b[1;33m)\u001b[0m\u001b[1;33m\u001b[0m\u001b[1;33m\u001b[0m\u001b[0m\n\u001b[0m\u001b[0;32m   2016\u001b[0m         \u001b[0mself\u001b[0m\u001b[1;33m.\u001b[0m\u001b[0mmouseover\u001b[0m \u001b[1;33m=\u001b[0m \u001b[1;32mFalse\u001b[0m\u001b[1;33m\u001b[0m\u001b[1;33m\u001b[0m\u001b[0m\n\u001b[0;32m   2017\u001b[0m \u001b[1;33m\u001b[0m\u001b[0m\n",
      "\u001b[1;32m~\\anaconda3\\lib\\site-packages\\matplotlib\\collections.py\u001b[0m in \u001b[0;36m__init__\u001b[1;34m(self, edgecolors, facecolors, linewidths, linestyles, capstyle, joinstyle, antialiaseds, offsets, transOffset, norm, cmap, pickradius, hatch, urls, zorder, **kwargs)\u001b[0m\n\u001b[0;32m    215\u001b[0m \u001b[1;33m\u001b[0m\u001b[0m\n\u001b[0;32m    216\u001b[0m         \u001b[0mself\u001b[0m\u001b[1;33m.\u001b[0m\u001b[0m_path_effects\u001b[0m \u001b[1;33m=\u001b[0m \u001b[1;32mNone\u001b[0m\u001b[1;33m\u001b[0m\u001b[1;33m\u001b[0m\u001b[0m\n\u001b[1;32m--> 217\u001b[1;33m         \u001b[0mself\u001b[0m\u001b[1;33m.\u001b[0m\u001b[0mupdate\u001b[0m\u001b[1;33m(\u001b[0m\u001b[0mkwargs\u001b[0m\u001b[1;33m)\u001b[0m\u001b[1;33m\u001b[0m\u001b[1;33m\u001b[0m\u001b[0m\n\u001b[0m\u001b[0;32m    218\u001b[0m         \u001b[0mself\u001b[0m\u001b[1;33m.\u001b[0m\u001b[0m_paths\u001b[0m \u001b[1;33m=\u001b[0m \u001b[1;32mNone\u001b[0m\u001b[1;33m\u001b[0m\u001b[1;33m\u001b[0m\u001b[0m\n\u001b[0;32m    219\u001b[0m \u001b[1;33m\u001b[0m\u001b[0m\n",
      "\u001b[1;32m~\\anaconda3\\lib\\site-packages\\matplotlib\\artist.py\u001b[0m in \u001b[0;36mupdate\u001b[1;34m(self, props)\u001b[0m\n\u001b[0;32m   1064\u001b[0m                         raise AttributeError(f\"{type(self).__name__!r} object \"\n\u001b[0;32m   1065\u001b[0m                                              f\"has no property {k!r}\")\n\u001b[1;32m-> 1066\u001b[1;33m                     \u001b[0mret\u001b[0m\u001b[1;33m.\u001b[0m\u001b[0mappend\u001b[0m\u001b[1;33m(\u001b[0m\u001b[0mfunc\u001b[0m\u001b[1;33m(\u001b[0m\u001b[0mv\u001b[0m\u001b[1;33m)\u001b[0m\u001b[1;33m)\u001b[0m\u001b[1;33m\u001b[0m\u001b[1;33m\u001b[0m\u001b[0m\n\u001b[0m\u001b[0;32m   1067\u001b[0m         \u001b[1;32mif\u001b[0m \u001b[0mret\u001b[0m\u001b[1;33m:\u001b[0m\u001b[1;33m\u001b[0m\u001b[1;33m\u001b[0m\u001b[0m\n\u001b[0;32m   1068\u001b[0m             \u001b[0mself\u001b[0m\u001b[1;33m.\u001b[0m\u001b[0mpchanged\u001b[0m\u001b[1;33m(\u001b[0m\u001b[1;33m)\u001b[0m\u001b[1;33m\u001b[0m\u001b[1;33m\u001b[0m\u001b[0m\n",
      "\u001b[1;32m~\\anaconda3\\lib\\site-packages\\matplotlib\\collections.py\u001b[0m in \u001b[0;36mset_array\u001b[1;34m(self, A)\u001b[0m\n\u001b[0;32m   2075\u001b[0m                     f\"X ({width}) and/or Y ({height})\")\n\u001b[0;32m   2076\u001b[0m \u001b[1;33m\u001b[0m\u001b[0m\n\u001b[1;32m-> 2077\u001b[1;33m         \u001b[1;32mreturn\u001b[0m \u001b[0msuper\u001b[0m\u001b[1;33m(\u001b[0m\u001b[1;33m)\u001b[0m\u001b[1;33m.\u001b[0m\u001b[0mset_array\u001b[0m\u001b[1;33m(\u001b[0m\u001b[0mA\u001b[0m\u001b[1;33m)\u001b[0m\u001b[1;33m\u001b[0m\u001b[1;33m\u001b[0m\u001b[0m\n\u001b[0m\u001b[0;32m   2078\u001b[0m \u001b[1;33m\u001b[0m\u001b[0m\n\u001b[0;32m   2079\u001b[0m     \u001b[1;32mdef\u001b[0m \u001b[0mget_datalim\u001b[0m\u001b[1;33m(\u001b[0m\u001b[0mself\u001b[0m\u001b[1;33m,\u001b[0m \u001b[0mtransData\u001b[0m\u001b[1;33m)\u001b[0m\u001b[1;33m:\u001b[0m\u001b[1;33m\u001b[0m\u001b[1;33m\u001b[0m\u001b[0m\n",
      "\u001b[1;32m~\\anaconda3\\lib\\site-packages\\matplotlib\\cm.py\u001b[0m in \u001b[0;36mset_array\u001b[1;34m(self, A)\u001b[0m\n\u001b[0;32m    475\u001b[0m         \u001b[0mA\u001b[0m \u001b[1;33m=\u001b[0m \u001b[0mcbook\u001b[0m\u001b[1;33m.\u001b[0m\u001b[0msafe_masked_invalid\u001b[0m\u001b[1;33m(\u001b[0m\u001b[0mA\u001b[0m\u001b[1;33m,\u001b[0m \u001b[0mcopy\u001b[0m\u001b[1;33m=\u001b[0m\u001b[1;32mTrue\u001b[0m\u001b[1;33m)\u001b[0m\u001b[1;33m\u001b[0m\u001b[1;33m\u001b[0m\u001b[0m\n\u001b[0;32m    476\u001b[0m         \u001b[1;32mif\u001b[0m \u001b[1;32mnot\u001b[0m \u001b[0mnp\u001b[0m\u001b[1;33m.\u001b[0m\u001b[0mcan_cast\u001b[0m\u001b[1;33m(\u001b[0m\u001b[0mA\u001b[0m\u001b[1;33m.\u001b[0m\u001b[0mdtype\u001b[0m\u001b[1;33m,\u001b[0m \u001b[0mfloat\u001b[0m\u001b[1;33m,\u001b[0m \u001b[1;34m\"same_kind\"\u001b[0m\u001b[1;33m)\u001b[0m\u001b[1;33m:\u001b[0m\u001b[1;33m\u001b[0m\u001b[1;33m\u001b[0m\u001b[0m\n\u001b[1;32m--> 477\u001b[1;33m             raise TypeError(f\"Image data of dtype {A.dtype} cannot be \"\n\u001b[0m\u001b[0;32m    478\u001b[0m                             \"converted to float\")\n\u001b[0;32m    479\u001b[0m \u001b[1;33m\u001b[0m\u001b[0m\n",
      "\u001b[1;31mTypeError\u001b[0m: Image data of dtype object cannot be converted to float"
     ]
    },
    {
     "data": {
      "image/png": "[encoded data removed]",
      "text/plain": [
       "<Figure size 640x480 with 1 Axes>"
      ]
     },
     "metadata": {},
     "output_type": "display_data"
    }
   ],
   "source": [
    "import seaborn as sns\n",
    "ax = sns.heatmap(np.array(tiempoV), linewidth=0.5)"
   ]
  },
  {
   "cell_type": "code",
   "execution_count": 295,
   "id": "1c02c3cf",
   "metadata": {},
   "outputs": [
    {
     "data": {
      "text/plain": [
       "array([[0.0, 2.0, 2.0],\n",
       "       [1.0, 0.0, 1.0],\n",
       "       [1.0, 2.0, 0.0]], dtype=object)"
      ]
     },
     "execution_count": 295,
     "metadata": {},
     "output_type": "execute_result"
    }
   ],
   "source": [
    "data = np.array(tiempoV)\n",
    "data"
   ]
  },
  {
   "cell_type": "code",
   "execution_count": 287,
   "id": "b07cc2a4",
   "metadata": {},
   "outputs": [],
   "source": [
    "#axs[0, 1].plot(df2.groupby('Jug').get_group(i)['Rival'], df2.groupby('Jug').get_group(i)['nVueltas'])"
   ]
  },
  {
   "cell_type": "code",
   "execution_count": 288,
   "id": "7e4748f3",
   "metadata": {},
   "outputs": [],
   "source": [
    "def insertar_datos():\n",
    "    for i in range(comb(len(df['Jugador']))):\n",
    "        event, v = window2.read()\n",
    "        window2['pantalla'].update('Cambio'+str(i + 1))\n",
    "        if event in (sg.WIN_CLOSED, 'Cancel'):\n",
    "            break     \n",
    "        if event == 'Datos':\n",
    "            adjuntar_datos()\n",
    "            mostrar_datos()\n",
    "            i -=1\n",
    "            continue\n",
    "        if event == 'OK':\n",
    "            j1 = v['val1']\n",
    "            if j1 not in list(df['Jugador']):\n",
    "                window2['pantalla'].update('Jugador no registrado')\n",
    "                i =- 1\n",
    "                continue\n",
    "            j2 = v['val2']\n",
    "            if j2 not in list(df['Jugador']):\n",
    "                window2['pantalla'].update('Jugador no registrado')\n",
    "                i =- 1\n",
    "                continue\n",
    "            if j1+j2 in enfrentamientos:\n",
    "                window2['pantalla'].update('Este enfrentamientos ya se ha realizado')\n",
    "                i =- 1\n",
    "                continue\n",
    "            \"\"\"\"################################################################\n",
    "            if numeroVueltas[numeroVueltas.index == j1][j2].iloc[0][0] == '':\n",
    "                numeroVueltas[numeroVueltas.index == j1][j2].iloc[0][0] = float(v['n1'])\n",
    "                #numeroVueltas[j1][j2] = numeroVueltas[j1][j2] + v['n1']\n",
    "            else:\n",
    "                numeroVueltas[numeroVueltas.index == j1][j2].iloc[0][1] = float(v['n1'])\n",
    "            ################################################################\n",
    "            if numeroVueltas[numeroVueltas.index == j2][j1].iloc[0][0] == '':\n",
    "                numeroVueltas[numeroVueltas.index == j2][j1].iloc[0][0] = float(v['n2'])\n",
    "            else:\n",
    "                numeroVueltas[numeroVueltas.index == j2][j1].iloc[0][1] = float(v['n2'])\n",
    "            ################################################################\n",
    "            if tiempoV[tiempoV.index == j1][j2].iloc[0][0] == '':\n",
    "                tiempoV[tiempoV.index == j1][j2].iloc[0][0] = float(v['t1'])\n",
    "            else:\n",
    "                tiempoV[tiempoV.index == j1][j2].iloc[0][1] = float(v['t1'])\n",
    "            ################################################################\n",
    "            if tiempoV[tiempoV.index == j2][j1].iloc[0][0] == '':\n",
    "                tiempoV[tiempoV.index == j2][j1].iloc[0][0] = float(v['t2'])\n",
    "            else:\n",
    "                tiempoV[tiempoV.index == j2][j1].iloc[0][1] = float(v['t2'])\n",
    "            ################################################################\n",
    "            if vueltaRapida[vueltaRapida.index == j1][j2].iloc[0][0] == '':\n",
    "                vueltaRapida[vueltaRapida.index == j1][j2].iloc[0][0] = float(v['v1'])\n",
    "            else:\n",
    "                vueltaRapida[vueltaRapida.index == j1][j2].iloc[0][1] = float(v['v1'])\n",
    "            ################################################################\n",
    "            if vueltaRapida[vueltaRapida.index == j2][j1].iloc[0][0] == '':\n",
    "                vueltaRapida[vueltaRapida.index == j2][j1].iloc[0][0] = float(v['v2'])\n",
    "            else:\n",
    "                vueltaRapida[vueltaRapida.index == j2][j1].iloc[0][1] = float(v['v2'])\"\"\"\n",
    "            if numeroVueltas[j1][j2] == 0:\n",
    "                numeroVueltas[j1][j2] = float(v['n1'])\n",
    "            else:\n",
    "                numeroVueltas[j1][j2] = numeroVueltas[j1][j2] + float(v['n1'])\n",
    "            ################################################################\n",
    "            if numeroVueltas[j2][j1] == 0:\n",
    "                numeroVueltas[j2][j1] = float(v['n2'])\n",
    "            else:\n",
    "                numeroVueltas[j2][j1] = numeroVueltas[j2][j1] + float(v['n2'])\n",
    "            ################################################################\n",
    "            if tiempoV[j1][j2] == 0:\n",
    "                tiempoV[j1][j2] = float(v['t1'])\n",
    "            else:\n",
    "                tiempoV[j1][j2] = tiempoV[j1][j2] + float(v['t1'])\n",
    "            ################################################################\n",
    "            if tiempoV[j2][j1] == 0:\n",
    "                tiempoV[j2][j1] = float(v['t2'])\n",
    "            else:\n",
    "                numeroVueltas[j2][j1] = tiempoV[j2][j1] + float(v['t2'])\n",
    "            ################################################################\n",
    "            if vueltaRapida[j1][j2] == 0:\n",
    "                vueltaRapida[j1][j2] = float(v['v1'])\n",
    "            else:\n",
    "                vueltaRapida[j1][j2] = vueltaRapida[j1][j2] + float(v['v1'])\n",
    "            ################################################################\n",
    "            if vueltaRapida[j2][j1] == 0:\n",
    "                vueltaRapida[j2][j1] = float(v['v2'])\n",
    "            else:\n",
    "                vueltaRapida[j2][j1] = vueltaRapida[j2][j1] + float(v['v2'])\n",
    "            ################################################################\n",
    "            #numeroVueltas[j2][j1] = numeroVueltas[j2][j1] + v['n2']\n",
    "            #tiempoV[j1][j2] = tiempoV[j1][j2] + v['t1']\n",
    "            #tiempoV[j2][j1] = tiempoV[j2][j1] + v['t2']\n",
    "            #vueltaRapida[j1][j2] = vueltaRapida[j1][j2] + v['v1']\n",
    "            #vueltaRapida[j2][j1] = vueltaRapida[j2][j1] + v['v2']\n",
    "            #jug.append(j1)\n",
    "            #jug.append(j2)\n",
    "            #rival.append(jug[-1])\n",
    "            #rival.append(jug[-2])\n",
    "            enfrentamientos.append(j1+j2)\n",
    "            #tiempo.append(float(v['t1']))\n",
    "            #tiempo.append(float(v['t2']))\n",
    "            #nVueltas.append(float(v['n1']))\n",
    "            #nVueltas.append(float(v['n2']))\n",
    "            #vRapida.append(float(v['v1']))\n",
    "            #vRapida.append(float(v['v2']))\n",
    "    window2.close()\n",
    "    #window3.close()"
   ]
  },
  {
   "cell_type": "code",
   "execution_count": 289,
   "id": "a03e34c1",
   "metadata": {},
   "outputs": [],
   "source": [
    "df2 = pd.DataFrame(columns = ['Jug', 'Rival', 'nVueltas', 'tiempo', 'vRapida'])\n",
    "def adjuntar_datos():\n",
    "    df2['Jug'] = jug\n",
    "    df2['Rival'] = rival\n",
    "    df2['nVueltas'] = nVueltas\n",
    "    df2['tiempo'] = tiempo\n",
    "    df2['vRapida'] = vRapida"
   ]
  },
  {
   "cell_type": "code",
   "execution_count": 290,
   "id": "3b0cc6e3",
   "metadata": {},
   "outputs": [],
   "source": [
    "insertar_datos()\n",
    "#adjuntar_datos()"
   ]
  },
  {
   "cell_type": "code",
   "execution_count": null,
   "id": "3bb83b46",
   "metadata": {},
   "outputs": [],
   "source": []
  },
  {
   "cell_type": "raw",
   "id": "ae5ea9be",
   "metadata": {},
   "source": [
    "tiempoV"
   ]
  },
  {
   "cell_type": "code",
   "execution_count": 291,
   "id": "86475cb4",
   "metadata": {},
   "outputs": [
    {
     "data": {
      "text/html": [
       "<div>\n",
       "<style scoped>\n",
       "    .dataframe tbody tr th:only-of-type {\n",
       "        vertical-align: middle;\n",
       "    }\n",
       "\n",
       "    .dataframe tbody tr th {\n",
       "        vertical-align: top;\n",
       "    }\n",
       "\n",
       "    .dataframe thead th {\n",
       "        text-align: right;\n",
       "    }\n",
       "</style>\n",
       "<table border=\"1\" class=\"dataframe\">\n",
       "  <thead>\n",
       "    <tr style=\"text-align: right;\">\n",
       "      <th></th>\n",
       "      <th>raul</th>\n",
       "      <th>mario</th>\n",
       "      <th>jose</th>\n",
       "    </tr>\n",
       "  </thead>\n",
       "  <tbody>\n",
       "    <tr>\n",
       "      <th>raul</th>\n",
       "      <td>0.0</td>\n",
       "      <td>2.0</td>\n",
       "      <td>2.0</td>\n",
       "    </tr>\n",
       "    <tr>\n",
       "      <th>mario</th>\n",
       "      <td>1.0</td>\n",
       "      <td>0.0</td>\n",
       "      <td>1.0</td>\n",
       "    </tr>\n",
       "    <tr>\n",
       "      <th>jose</th>\n",
       "      <td>1.0</td>\n",
       "      <td>2.0</td>\n",
       "      <td>0.0</td>\n",
       "    </tr>\n",
       "  </tbody>\n",
       "</table>\n",
       "</div>"
      ],
      "text/plain": [
       "      raul mario jose\n",
       "raul   0.0   2.0  2.0\n",
       "mario  1.0   0.0  1.0\n",
       "jose   1.0   2.0  0.0"
      ]
     },
     "execution_count": 291,
     "metadata": {},
     "output_type": "execute_result"
    }
   ],
   "source": [
    "tiempoV"
   ]
  },
  {
   "cell_type": "code",
   "execution_count": 87,
   "id": "b1ee7d18",
   "metadata": {},
   "outputs": [
    {
     "data": {
      "text/html": [
       "<div>\n",
       "<style scoped>\n",
       "    .dataframe tbody tr th:only-of-type {\n",
       "        vertical-align: middle;\n",
       "    }\n",
       "\n",
       "    .dataframe tbody tr th {\n",
       "        vertical-align: top;\n",
       "    }\n",
       "\n",
       "    .dataframe thead th {\n",
       "        text-align: right;\n",
       "    }\n",
       "</style>\n",
       "<table border=\"1\" class=\"dataframe\">\n",
       "  <thead>\n",
       "    <tr style=\"text-align: right;\">\n",
       "      <th></th>\n",
       "      <th>raul</th>\n",
       "      <th>mario</th>\n",
       "      <th>jose</th>\n",
       "    </tr>\n",
       "  </thead>\n",
       "  <tbody>\n",
       "    <tr>\n",
       "      <th>raul</th>\n",
       "      <td></td>\n",
       "      <td>5/2</td>\n",
       "      <td>1/4</td>\n",
       "    </tr>\n",
       "    <tr>\n",
       "      <th>mario</th>\n",
       "      <td>1/4</td>\n",
       "      <td></td>\n",
       "      <td>1/4</td>\n",
       "    </tr>\n",
       "    <tr>\n",
       "      <th>jose</th>\n",
       "      <td>5/2</td>\n",
       "      <td>5/2</td>\n",
       "      <td></td>\n",
       "    </tr>\n",
       "  </tbody>\n",
       "</table>\n",
       "</div>"
      ],
      "text/plain": [
       "      raul mario jose\n",
       "raul         5/2  1/4\n",
       "mario  1/4        1/4\n",
       "jose   5/2   5/2     "
      ]
     },
     "execution_count": 87,
     "metadata": {},
     "output_type": "execute_result"
    }
   ],
   "source": [
    "numeroVueltas"
   ]
  },
  {
   "cell_type": "code",
   "execution_count": 32,
   "id": "380e28dc",
   "metadata": {},
   "outputs": [],
   "source": [
    "df3['raul']['raul'] = 1"
   ]
  },
  {
   "cell_type": "code",
   "execution_count": 108,
   "id": "2d06e18d",
   "metadata": {},
   "outputs": [],
   "source": [
    "lista_x = list(df['Jugador'].unique())\n",
    "#df4 = pd.DataFrame((columns = df['Jugador'].unique(), index = df['Jugador'].unique()))"
   ]
  },
  {
   "cell_type": "code",
   "execution_count": 106,
   "id": "a9e4c55b",
   "metadata": {},
   "outputs": [],
   "source": [
    "for i in range(len(lista_x)):\n",
    "    #if(i != 0 and i!=len(lista_x)):    #Exluyendo extremos\n",
    "    lista_x.insert(-i,lista_x[-i])"
   ]
  },
  {
   "cell_type": "code",
   "execution_count": 104,
   "id": "a8f12633",
   "metadata": {},
   "outputs": [],
   "source": [
    "lista_x.insert(1,'a')"
   ]
  },
  {
   "cell_type": "code",
   "execution_count": 112,
   "id": "004e0e97",
   "metadata": {},
   "outputs": [],
   "source": []
  },
  {
   "cell_type": "code",
   "execution_count": 113,
   "id": "30a4406f",
   "metadata": {},
   "outputs": [
    {
     "data": {
      "text/plain": [
       "['raul', 'mario', 'jose', 'raul', 'mario', 'jose']"
      ]
     },
     "execution_count": 113,
     "metadata": {},
     "output_type": "execute_result"
    }
   ],
   "source": [
    "lista_x"
   ]
  },
  {
   "cell_type": "code",
   "execution_count": null,
   "id": "ed6ac0a2",
   "metadata": {},
   "outputs": [],
   "source": []
  }
 ],
 "metadata": {
  "kernelspec": {
   "display_name": "Python 3 (ipykernel)",
   "language": "python",
   "name": "python3"
  },
  "language_info": {
   "codemirror_mode": {
    "name": "ipython",
    "version": 3
   },
   "file_extension": ".py",
   "mimetype": "text/x-python",
   "name": "python",
   "nbconvert_exporter": "python",
   "pygments_lexer": "ipython3",
   "version": "3.9.13"
  }
 },
 "nbformat": 4,
 "nbformat_minor": 5
}
